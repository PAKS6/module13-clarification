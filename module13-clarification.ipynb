{
 "cells": [
  {
   "cell_type": "markdown",
   "id": "ed97ff04",
   "metadata": {},
   "source": [
    "Exercise 5\n",
    "Write a program that asks the user for a number and a file name, then prints out the number from 1 to that number, one one each line to a file named using user's input. Then, read that file and print out its content."
   ]
  },
  {
   "cell_type": "code",
   "execution_count": null,
   "id": "aa77ef66",
   "metadata": {},
   "outputs": [],
   "source": [
    "filename1 = input(\"Enter filename:  \") \n",
    "file_name = open (f\"{filename1}\", \"w\")\n",
    "file_name.close()\n"
   ]
  },
  {
   "cell_type": "code",
   "execution_count": null,
   "id": "441aff57",
   "metadata": {},
   "outputs": [],
   "source": [
    "def my_numb_print():\n",
    "    numb1=int(input(\"Enter a number:  \"))\n",
    "    numb = numb1 + 1\n",
    "    i=1\n",
    "    while i<numb:\n",
    "        print(i)\n",
    "        i+=1     \n",
    "\n",
    "\n",
    "data = my_numb_print()    "
   ]
  },
  {
   "cell_type": "code",
   "execution_count": null,
   "id": "03a25b73",
   "metadata": {},
   "outputs": [],
   "source": [
    "numb1=int(input(\"Enter a number:  \"))\n",
    "numb = numb1 + 1\n",
    "for i in range(1, numb):\n",
    "    print(i)"
   ]
  },
  {
   "cell_type": "code",
   "execution_count": null,
   "id": "4345d1d0",
   "metadata": {},
   "outputs": [],
   "source": [
    "f = open(\"output.txt\", \"w+\")\n",
    "print(my_numb_print(), file=f)\n",
    "f.close()"
   ]
  },
  {
   "cell_type": "code",
   "execution_count": null,
   "id": "ded35cf5",
   "metadata": {},
   "outputs": [],
   "source": []
  }
 ],
 "metadata": {
  "kernelspec": {
   "display_name": "Python 3 (ipykernel)",
   "language": "python",
   "name": "python3"
  },
  "language_info": {
   "codemirror_mode": {
    "name": "ipython",
    "version": 3
   },
   "file_extension": ".py",
   "mimetype": "text/x-python",
   "name": "python",
   "nbconvert_exporter": "python",
   "pygments_lexer": "ipython3",
   "version": "3.9.7"
  }
 },
 "nbformat": 4,
 "nbformat_minor": 5
}
